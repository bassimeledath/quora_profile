{
 "cells": [
  {
   "cell_type": "code",
   "execution_count": 184,
   "metadata": {},
   "outputs": [],
   "source": [
    "import pandas as pd\n",
    "import numpy as np\n",
    "import matplotlib.pyplot as plt\n",
    "import seaborn as sns\n",
    "from nltk import wordpunct_tokenize\n",
    "from collections import defaultdict\n",
    "from nltk import tokenize\n",
    "from sklearn.feature_extraction.text import CountVectorizer\n",
    "from nltk.tokenize import RegexpTokenizer\n",
    "from nltk.corpus import stopwords\n",
    "from tqdm import tqdm\n",
    "from sklearn.metrics.pairwise import cosine_similarity\n",
    "from sklearn import metrics\n",
    "import random\n",
    "import pylab\n",
    "from sklearn.metrics import log_loss\n",
    "from sklearn.metrics import average_precision_score\n",
    "from sklearn.metrics import precision_recall_curve\n",
    "import matplotlib.pyplot as plt\n",
    "from sklearn.utils.fixes import signature\n"
   ]
  },
  {
   "cell_type": "code",
   "execution_count": 2,
   "metadata": {},
   "outputs": [],
   "source": [
    "data = pd.read_csv('train.csv',index_col='id')"
   ]
  },
  {
   "cell_type": "code",
   "execution_count": 3,
   "metadata": {},
   "outputs": [
    {
     "data": {
      "text/plain": [
       "(404290, 5)"
      ]
     },
     "execution_count": 3,
     "metadata": {},
     "output_type": "execute_result"
    }
   ],
   "source": [
    "data.shape"
   ]
  },
  {
   "cell_type": "code",
   "execution_count": 102,
   "metadata": {},
   "outputs": [
    {
     "data": {
      "text/html": [
       "<div>\n",
       "<style scoped>\n",
       "    .dataframe tbody tr th:only-of-type {\n",
       "        vertical-align: middle;\n",
       "    }\n",
       "\n",
       "    .dataframe tbody tr th {\n",
       "        vertical-align: top;\n",
       "    }\n",
       "\n",
       "    .dataframe thead th {\n",
       "        text-align: right;\n",
       "    }\n",
       "</style>\n",
       "<table border=\"1\" class=\"dataframe\">\n",
       "  <thead>\n",
       "    <tr style=\"text-align: right;\">\n",
       "      <th></th>\n",
       "      <th>qid1</th>\n",
       "      <th>qid2</th>\n",
       "      <th>question1</th>\n",
       "      <th>question2</th>\n",
       "      <th>is_duplicate</th>\n",
       "      <th>sim_scores</th>\n",
       "    </tr>\n",
       "    <tr>\n",
       "      <th>id</th>\n",
       "      <th></th>\n",
       "      <th></th>\n",
       "      <th></th>\n",
       "      <th></th>\n",
       "      <th></th>\n",
       "      <th></th>\n",
       "    </tr>\n",
       "  </thead>\n",
       "  <tbody>\n",
       "    <tr>\n",
       "      <th>0</th>\n",
       "      <td>1</td>\n",
       "      <td>2</td>\n",
       "      <td>What is the step by step guide to invest in sh...</td>\n",
       "      <td>What is the step by step guide to invest in sh...</td>\n",
       "      <td>0</td>\n",
       "      <td>1.000000</td>\n",
       "    </tr>\n",
       "    <tr>\n",
       "      <th>1</th>\n",
       "      <td>3</td>\n",
       "      <td>4</td>\n",
       "      <td>What is the story of Kohinoor (Koh-i-Noor) Dia...</td>\n",
       "      <td>What would happen if the Indian government sto...</td>\n",
       "      <td>0</td>\n",
       "      <td>0.454545</td>\n",
       "    </tr>\n",
       "    <tr>\n",
       "      <th>2</th>\n",
       "      <td>5</td>\n",
       "      <td>6</td>\n",
       "      <td>How can I increase the speed of my internet co...</td>\n",
       "      <td>How can Internet speed be increased by hacking...</td>\n",
       "      <td>0</td>\n",
       "      <td>0.666667</td>\n",
       "    </tr>\n",
       "    <tr>\n",
       "      <th>3</th>\n",
       "      <td>7</td>\n",
       "      <td>8</td>\n",
       "      <td>Why am I mentally very lonely? How can I solve...</td>\n",
       "      <td>Find the remainder when [math]23^{24}[/math] i...</td>\n",
       "      <td>0</td>\n",
       "      <td>0.333333</td>\n",
       "    </tr>\n",
       "    <tr>\n",
       "      <th>4</th>\n",
       "      <td>9</td>\n",
       "      <td>10</td>\n",
       "      <td>Which one dissolve in water quikly sugar, salt...</td>\n",
       "      <td>Which fish would survive in salt water?</td>\n",
       "      <td>0</td>\n",
       "      <td>0.769231</td>\n",
       "    </tr>\n",
       "  </tbody>\n",
       "</table>\n",
       "</div>"
      ],
      "text/plain": [
       "    qid1  qid2                                          question1  \\\n",
       "id                                                                  \n",
       "0      1     2  What is the step by step guide to invest in sh...   \n",
       "1      3     4  What is the story of Kohinoor (Koh-i-Noor) Dia...   \n",
       "2      5     6  How can I increase the speed of my internet co...   \n",
       "3      7     8  Why am I mentally very lonely? How can I solve...   \n",
       "4      9    10  Which one dissolve in water quikly sugar, salt...   \n",
       "\n",
       "                                            question2  is_duplicate  \\\n",
       "id                                                                    \n",
       "0   What is the step by step guide to invest in sh...             0   \n",
       "1   What would happen if the Indian government sto...             0   \n",
       "2   How can Internet speed be increased by hacking...             0   \n",
       "3   Find the remainder when [math]23^{24}[/math] i...             0   \n",
       "4             Which fish would survive in salt water?             0   \n",
       "\n",
       "    sim_scores  \n",
       "id              \n",
       "0     1.000000  \n",
       "1     0.454545  \n",
       "2     0.666667  \n",
       "3     0.333333  \n",
       "4     0.769231  "
      ]
     },
     "execution_count": 102,
     "metadata": {},
     "output_type": "execute_result"
    }
   ],
   "source": [
    "data.head(5)"
   ]
  },
  {
   "cell_type": "code",
   "execution_count": 5,
   "metadata": {},
   "outputs": [],
   "source": [
    "data.fillna('0',inplace=True)"
   ]
  },
  {
   "cell_type": "code",
   "execution_count": 56,
   "metadata": {},
   "outputs": [
    {
     "name": "stdout",
     "output_type": "stream",
     "text": [
      "149263 255027\n"
     ]
    }
   ],
   "source": [
    "print (len(data[data['is_duplicate']==1]),len(data[data['is_duplicate']==0]))"
   ]
  },
  {
   "cell_type": "code",
   "execution_count": 54,
   "metadata": {},
   "outputs": [
    {
     "data": {
      "text/plain": [
       "<matplotlib.axes._subplots.AxesSubplot at 0x1a179f6e80>"
      ]
     },
     "execution_count": 54,
     "metadata": {},
     "output_type": "execute_result"
    },
    {
     "data": {
      "image/png": "[encoded data removed]",
      "text/plain": [
       "<Figure size 432x288 with 1 Axes>"
      ]
     },
     "metadata": {},
     "output_type": "display_data"
    }
   ],
   "source": [
    "# dataset is balanced\n",
    "\n",
    "sns.barplot(x=['duplicates','not duplicates'],y=[len(data[data['is_duplicate']==1]),len(data[data['is_duplicate']==0])],alpha=0.9)"
   ]
  },
  {
   "cell_type": "code",
   "execution_count": 18,
   "metadata": {},
   "outputs": [
    {
     "name": "stdout",
     "output_type": "stream",
     "text": [
      "average character count question1 is 59.5514\n",
      "average character count question2 is 60.387\n"
     ]
    },
    {
     "name": "stderr",
     "output_type": "stream",
     "text": [
      "/Users/bassim/anaconda3/lib/python3.6/site-packages/matplotlib/axes/_axes.py:6462: UserWarning: The 'normed' kwarg is deprecated, and has been replaced by the 'density' kwarg.\n",
      "  warnings.warn(\"The 'normed' kwarg is deprecated, and has been \"\n"
     ]
    },
    {
     "data": {
      "text/plain": [
       "<matplotlib.lines.Line2D at 0x1a1eba9198>"
      ]
     },
     "execution_count": 18,
     "metadata": {},
     "output_type": "execute_result"
    },
    {
     "data": {
      "image/png": "[encoded data removed]",
      "text/plain": [
       "<Figure size 432x288 with 1 Axes>"
      ]
     },
     "metadata": {},
     "output_type": "display_data"
    }
   ],
   "source": [
    "# character counts of questions\n",
    "\n",
    "print ('average character count question1 is',np.array([len(x) for x in data['question1'].values[:5000]]).mean())\n",
    "print ('average character count question2 is',np.array([len(x) for x in data['question2'].values[:5000]]).mean())\n",
    "\n",
    "sns.distplot(np.array([len(x) for x in data['question1'].values]))\n",
    "#sns.distplot(np.array([len(x) for x in data['question2'].values]))\n",
    "plt.axvline(x=59.55,c='r')"
   ]
  },
  {
   "cell_type": "code",
   "execution_count": 19,
   "metadata": {},
   "outputs": [
    {
     "name": "stdout",
     "output_type": "stream",
     "text": [
      "final results of preprocessing and tokenization\n",
      "['what', 'is', 'the', 'step', 'by', 'step', 'guide', 'to', 'invest', 'in', 'share', 'market', 'in', 'india']\n",
      "['what', 'is', 'the', 'step', 'by', 'step', 'guide', 'to', 'invest', 'in', 'share', 'market']\n"
     ]
    }
   ],
   "source": [
    "# preprocessing & tokenization \n",
    "# made words lower case\n",
    "# removed punctuation\n",
    "\n",
    "tokenizer = RegexpTokenizer(r'\\w+')\n",
    "q1,q2 = [],[]\n",
    "for sentence1,sentence2 in zip(data['question1'].values[:5000],data['question2'].values[:5000]):\n",
    "    q1.append(tokenizer.tokenize(sentence1.lower()))\n",
    "    q2.append(tokenizer.tokenize(sentence2.lower()))\n",
    "\n",
    "    \n",
    "print ('final results of preprocessing and tokenization')\n",
    "print (q1[0])\n",
    "print (q2[0])"
   ]
  },
  {
   "cell_type": "code",
   "execution_count": 135,
   "metadata": {},
   "outputs": [],
   "source": [
    "# Building a custom frequency vectorizer for this specific use case. \n",
    "# It is a naive implementation but I am constrained with time.\n",
    "\n",
    "def sim_score(sentence1,sentence2):\n",
    "    sentence1 = [x for x in sentence1 if x not in stopwords.words('english')]\n",
    "    sentence2 = [x for x in sentence2 if x not in stopwords.words('english')]\n",
    "    comp_set = list(set(sentence1 + sentence2))\n",
    "    comp_vec1,comp_vec2 = [0]*len(comp_set),[0]*len(comp_set)\n",
    "    for x,y in zip(sentence1,range(0,len(comp_vec1))):\n",
    "        if x in comp_set:\n",
    "            freq = sentence1.count(x)\n",
    "            comp_vec1[y] = freq\n",
    "    for x,y in zip(sentence2,range(0,len(comp_vec2))):\n",
    "        if x in comp_set:\n",
    "            freq = sentence2.count(x)\n",
    "            comp_vec2[y] = freq\n",
    "    return np.array(comp_vec1+comp_vec2).mean()"
   ]
  },
  {
   "cell_type": "code",
   "execution_count": 136,
   "metadata": {},
   "outputs": [],
   "source": [
    "# getting similarity scores for whole distributioon\n",
    "\n",
    "dist_scores = []\n",
    "for sentence1,sentence2 in zip(q1,q2):\n",
    "    dist_scores.append(sim_score(sentence1,sentence2))  \n",
    "    \n",
    "dist_scores = np.array(dist_scores)\n",
    "dist_scores[np.isnan(dist_scores)] = 0"
   ]
  },
  {
   "cell_type": "code",
   "execution_count": 137,
   "metadata": {},
   "outputs": [
    {
     "name": "stdout",
     "output_type": "stream",
     "text": [
      "mean of dist_scores is 0.7411091607769851\n"
     ]
    }
   ],
   "source": [
    "print ('mean of dist_scores is',pd.Series(dist_scores).describe()[1])"
   ]
  },
  {
   "cell_type": "code",
   "execution_count": 139,
   "metadata": {},
   "outputs": [
    {
     "name": "stderr",
     "output_type": "stream",
     "text": [
      "/Users/bassim/anaconda3/lib/python3.6/site-packages/matplotlib/axes/_axes.py:6462: UserWarning: The 'normed' kwarg is deprecated, and has been replaced by the 'density' kwarg.\n",
      "  warnings.warn(\"The 'normed' kwarg is deprecated, and has been \"\n"
     ]
    },
    {
     "data": {
      "text/plain": [
       "<matplotlib.legend.Legend at 0x1a1a897c50>"
      ]
     },
     "execution_count": 139,
     "metadata": {},
     "output_type": "execute_result"
    },
    {
     "data": {
      "image/png": "[encoded data removed]",
      "text/plain": [
       "<Figure size 720x432 with 1 Axes>"
      ]
     },
     "metadata": {},
     "output_type": "display_data"
    }
   ],
   "source": [
    "# Mean similarity score is 0.706 which isn't a bad representation of how the dataset is balanced.\n",
    "\n",
    "plt.figure(figsize=(10,6))\n",
    "sns.distplot(dist_scores)\n",
    "plt.ylabel('frequency')\n",
    "plt.xlabel('similarity score')\n",
    "pylab.axvline(x=0.741109,c='r',label='mean')\n",
    "pylab.legend(loc='upper left')"
   ]
  },
  {
   "cell_type": "code",
   "execution_count": 144,
   "metadata": {},
   "outputs": [
    {
     "name": "stdout",
     "output_type": "stream",
     "text": [
      "Average similarity score of duplicates is 0.08076199389039997\n",
      "Average similarity score of non_duplicates is 0.05551538359165233\n"
     ]
    },
    {
     "name": "stderr",
     "output_type": "stream",
     "text": [
      "/Users/bassim/anaconda3/lib/python3.6/site-packages/ipykernel_launcher.py:2: SettingWithCopyWarning: \n",
      "A value is trying to be set on a copy of a slice from a DataFrame.\n",
      "Try using .loc[row_indexer,col_indexer] = value instead\n",
      "\n",
      "See the caveats in the documentation: http://pandas.pydata.org/pandas-docs/stable/indexing.html#indexing-view-versus-copy\n",
      "  \n",
      "/Users/bassim/anaconda3/lib/python3.6/site-packages/ipykernel_launcher.py:3: SettingWithCopyWarning: \n",
      "A value is trying to be set on a copy of a slice from a DataFrame.\n",
      "Try using .loc[row_indexer,col_indexer] = value instead\n",
      "\n",
      "See the caveats in the documentation: http://pandas.pydata.org/pandas-docs/stable/indexing.html#indexing-view-versus-copy\n",
      "  This is separate from the ipykernel package so we can avoid doing imports until\n",
      "/Users/bassim/anaconda3/lib/python3.6/site-packages/matplotlib/axes/_axes.py:6462: UserWarning: The 'normed' kwarg is deprecated, and has been replaced by the 'density' kwarg.\n",
      "  warnings.warn(\"The 'normed' kwarg is deprecated, and has been \"\n",
      "/Users/bassim/anaconda3/lib/python3.6/site-packages/matplotlib/axes/_axes.py:6462: UserWarning: The 'normed' kwarg is deprecated, and has been replaced by the 'density' kwarg.\n",
      "  warnings.warn(\"The 'normed' kwarg is deprecated, and has been \"\n"
     ]
    },
    {
     "data": {
      "text/plain": [
       "<matplotlib.axes._subplots.AxesSubplot at 0x1a1abde6a0>"
      ]
     },
     "execution_count": 144,
     "metadata": {},
     "output_type": "execute_result"
    },
    {
     "data": {
      "image/png": "[encoded data removed]",
      "text/plain": [
       "<Figure size 648x432 with 1 Axes>"
      ]
     },
     "metadata": {},
     "output_type": "display_data"
    }
   ],
   "source": [
    "sample = data[:5000]\n",
    "sample['sim_scores'] = dist_scores\n",
    "sample['sim_scores'] = (dist_scores-dist_scores.min())/(dist_scores.max()-dist_scores.min())\n",
    "print ('Average similarity score of duplicates is',sample.loc[sample['is_duplicate']==1,'sim_scores'].mean())\n",
    "print ('Average similarity score of non_duplicates is',sample.loc[sample['is_duplicate']==0,'sim_scores'].mean())\n",
    "\n",
    "plt.figure(figsize=(9,6))\n",
    "sns.distplot(sample.loc[sample['is_duplicate']==1,'sim_scores'])\n",
    "sns.distplot(sample.loc[sample['is_duplicate']==0,'sim_scores'])"
   ]
  },
  {
   "cell_type": "code",
   "execution_count": 180,
   "metadata": {},
   "outputs": [
    {
     "name": "stdout",
     "output_type": "stream",
     "text": [
      "average character count question1 is 78.15\n",
      "average character count question2 is 76.35\n"
     ]
    }
   ],
   "source": [
    "# Getting the top 20 worst guesses\n",
    "\n",
    "wrong_sim = sample.loc[sample['is_duplicate']==0].sort_values(by='sim_scores',ascending=False).head(5)\n",
    "print ('average character count question1 is',np.array([len(x) for x in wrong['question1']]).mean())\n",
    "print ('average character count question2 is',np.array([len(x) for x in wrong['question2']]).mean())"
   ]
  },
  {
   "cell_type": "code",
   "execution_count": 181,
   "metadata": {},
   "outputs": [
    {
     "data": {
      "text/html": [
       "<div>\n",
       "<style scoped>\n",
       "    .dataframe tbody tr th:only-of-type {\n",
       "        vertical-align: middle;\n",
       "    }\n",
       "\n",
       "    .dataframe tbody tr th {\n",
       "        vertical-align: top;\n",
       "    }\n",
       "\n",
       "    .dataframe thead th {\n",
       "        text-align: right;\n",
       "    }\n",
       "</style>\n",
       "<table border=\"1\" class=\"dataframe\">\n",
       "  <thead>\n",
       "    <tr style=\"text-align: right;\">\n",
       "      <th></th>\n",
       "      <th>qid1</th>\n",
       "      <th>qid2</th>\n",
       "      <th>question1</th>\n",
       "      <th>question2</th>\n",
       "      <th>is_duplicate</th>\n",
       "      <th>sim_scores</th>\n",
       "      <th>cos_score</th>\n",
       "    </tr>\n",
       "    <tr>\n",
       "      <th>id</th>\n",
       "      <th></th>\n",
       "      <th></th>\n",
       "      <th></th>\n",
       "      <th></th>\n",
       "      <th></th>\n",
       "      <th></th>\n",
       "      <th></th>\n",
       "    </tr>\n",
       "  </thead>\n",
       "  <tbody>\n",
       "    <tr>\n",
       "      <th>2712</th>\n",
       "      <td>5385</td>\n",
       "      <td>5386</td>\n",
       "      <td>What is [math]\\sqrt {2+\\sqrt {2+\\sqrt {2+\\sqrt...</td>\n",
       "      <td>If [math]y=f(x)=\\sqrt{x+\\sqrt{x^2+\\sqrt{x+\\sqr...</td>\n",
       "      <td>0</td>\n",
       "      <td>1.000000</td>\n",
       "      <td>0.521255</td>\n",
       "    </tr>\n",
       "    <tr>\n",
       "      <th>1923</th>\n",
       "      <td>3827</td>\n",
       "      <td>3828</td>\n",
       "      <td>Given that alpha and beta are roots of the equ...</td>\n",
       "      <td>The roots of the equation [math]x^2+3x-10=0[/m...</td>\n",
       "      <td>0</td>\n",
       "      <td>0.912162</td>\n",
       "      <td>0.233056</td>\n",
       "    </tr>\n",
       "    <tr>\n",
       "      <th>3547</th>\n",
       "      <td>7027</td>\n",
       "      <td>7028</td>\n",
       "      <td>What is the difference between 0^0 and 0^1?</td>\n",
       "      <td>What is the difference between 0/0 and 1/0?</td>\n",
       "      <td>0</td>\n",
       "      <td>0.495495</td>\n",
       "      <td>1.000000</td>\n",
       "    </tr>\n",
       "    <tr>\n",
       "      <th>764</th>\n",
       "      <td>1523</td>\n",
       "      <td>1524</td>\n",
       "      <td>What is [math]x[/math] if [math]x+\\left(\\dfrac...</td>\n",
       "      <td>What is [math]\\mathop {\\lim}\\limits_{x \\to 0^+...</td>\n",
       "      <td>0</td>\n",
       "      <td>0.479115</td>\n",
       "      <td>0.250663</td>\n",
       "    </tr>\n",
       "    <tr>\n",
       "      <th>4708</th>\n",
       "      <td>9298</td>\n",
       "      <td>9299</td>\n",
       "      <td>What is that 80's song that has a chorus of \"w...</td>\n",
       "      <td>What is the song that goes like \"Woah oh oh oh...</td>\n",
       "      <td>0</td>\n",
       "      <td>0.463320</td>\n",
       "      <td>0.770814</td>\n",
       "    </tr>\n",
       "  </tbody>\n",
       "</table>\n",
       "</div>"
      ],
      "text/plain": [
       "      qid1  qid2                                          question1  \\\n",
       "id                                                                    \n",
       "2712  5385  5386  What is [math]\\sqrt {2+\\sqrt {2+\\sqrt {2+\\sqrt...   \n",
       "1923  3827  3828  Given that alpha and beta are roots of the equ...   \n",
       "3547  7027  7028        What is the difference between 0^0 and 0^1?   \n",
       "764   1523  1524  What is [math]x[/math] if [math]x+\\left(\\dfrac...   \n",
       "4708  9298  9299  What is that 80's song that has a chorus of \"w...   \n",
       "\n",
       "                                              question2  is_duplicate  \\\n",
       "id                                                                      \n",
       "2712  If [math]y=f(x)=\\sqrt{x+\\sqrt{x^2+\\sqrt{x+\\sqr...             0   \n",
       "1923  The roots of the equation [math]x^2+3x-10=0[/m...             0   \n",
       "3547        What is the difference between 0/0 and 1/0?             0   \n",
       "764   What is [math]\\mathop {\\lim}\\limits_{x \\to 0^+...             0   \n",
       "4708  What is the song that goes like \"Woah oh oh oh...             0   \n",
       "\n",
       "      sim_scores  cos_score  \n",
       "id                           \n",
       "2712    1.000000   0.521255  \n",
       "1923    0.912162   0.233056  \n",
       "3547    0.495495   1.000000  \n",
       "764     0.479115   0.250663  \n",
       "4708    0.463320   0.770814  "
      ]
     },
     "execution_count": 181,
     "metadata": {},
     "output_type": "execute_result"
    }
   ],
   "source": [
    "wrong_sim"
   ]
  },
  {
   "cell_type": "code",
   "execution_count": 154,
   "metadata": {},
   "outputs": [],
   "source": [
    "def unit_vector(vector):\n",
    "    return vector / np.linalg.norm(vector)\n",
    "\n",
    "def angle_between(v1, v2):\n",
    "    v1_u = unit_vector(v1)\n",
    "    v2_u = unit_vector(v2)\n",
    "    return np.arccos(np.clip(np.dot(v1_u, v2_u), -1.0, 1.0))\n",
    "\n",
    "def cos_sim(sentence1,sentence2):\n",
    "    sentence1 = [x for x in sentence1 if x not in stopwords.words('english')]\n",
    "    sentence2 = [x for x in sentence2 if x not in stopwords.words('english')]\n",
    "    comp_set = list(set(sentence1 + sentence2))\n",
    "    comp_vec1,comp_vec2 = [0]*len(comp_set),[0]*len(comp_set)\n",
    "    for x,y in zip(sentence1,range(0,len(comp_vec1))):\n",
    "        if x in comp_set:\n",
    "            freq = sentence1.count(x)\n",
    "            comp_vec1[y] = freq\n",
    "    for x,y in zip(sentence2,range(0,len(comp_vec2))):\n",
    "        if x in comp_set:\n",
    "            freq = sentence2.count(x)\n",
    "            comp_vec2[y] = freq\n",
    "    return angle_between(comp_vec1,comp_vec2)"
   ]
  },
  {
   "cell_type": "code",
   "execution_count": 160,
   "metadata": {},
   "outputs": [
    {
     "name": "stderr",
     "output_type": "stream",
     "text": [
      "/Users/bassim/anaconda3/lib/python3.6/site-packages/ipykernel_launcher.py:2: RuntimeWarning: invalid value encountered in true_divide\n",
      "  \n"
     ]
    }
   ],
   "source": [
    "# getting cosine similarity scores for whole distributioon. Subtracting from 1.\n",
    "\n",
    "cos_score = []\n",
    "for sentence1,sentence2 in zip(q1,q2):\n",
    "    cos_score.append(cos_sim(sentence1,sentence2))  \n",
    "    \n",
    "cos_score = 1 - np.array(cos_score)\n",
    "cos_score[np.isnan(cos_score)] = 0"
   ]
  },
  {
   "cell_type": "code",
   "execution_count": 164,
   "metadata": {},
   "outputs": [
    {
     "name": "stdout",
     "output_type": "stream",
     "text": [
      "Average cos score of duplicates is 0.6281580875430731\n",
      "Average cos score of non_duplicates is 0.5000061391350329\n"
     ]
    },
    {
     "name": "stderr",
     "output_type": "stream",
     "text": [
      "/Users/bassim/anaconda3/lib/python3.6/site-packages/ipykernel_launcher.py:1: SettingWithCopyWarning: \n",
      "A value is trying to be set on a copy of a slice from a DataFrame.\n",
      "Try using .loc[row_indexer,col_indexer] = value instead\n",
      "\n",
      "See the caveats in the documentation: http://pandas.pydata.org/pandas-docs/stable/indexing.html#indexing-view-versus-copy\n",
      "  \"\"\"Entry point for launching an IPython kernel.\n",
      "/Users/bassim/anaconda3/lib/python3.6/site-packages/matplotlib/axes/_axes.py:6462: UserWarning: The 'normed' kwarg is deprecated, and has been replaced by the 'density' kwarg.\n",
      "  warnings.warn(\"The 'normed' kwarg is deprecated, and has been \"\n",
      "/Users/bassim/anaconda3/lib/python3.6/site-packages/matplotlib/axes/_axes.py:6462: UserWarning: The 'normed' kwarg is deprecated, and has been replaced by the 'density' kwarg.\n",
      "  warnings.warn(\"The 'normed' kwarg is deprecated, and has been \"\n"
     ]
    },
    {
     "data": {
      "text/plain": [
       "<matplotlib.axes._subplots.AxesSubplot at 0x1a1afabd30>"
      ]
     },
     "execution_count": 164,
     "metadata": {},
     "output_type": "execute_result"
    },
    {
     "data": {
      "image/png": "[encoded data removed]",
      "text/plain": [
       "<Figure size 648x432 with 1 Axes>"
      ]
     },
     "metadata": {},
     "output_type": "display_data"
    }
   ],
   "source": [
    "sample['cos_score'] = cos_score\n",
    "print ('Average cos score of duplicates is',sample.loc[sample['is_duplicate']==1,'cos_score'].mean())\n",
    "print ('Average cos score of non_duplicates is',sample.loc[sample['is_duplicate']==0,'cos_score'].mean())\n",
    "\n",
    "plt.figure(figsize=(9,6))\n",
    "sns.distplot(sample.loc[sample['is_duplicate']==1,'cos_score'])\n",
    "sns.distplot(sample.loc[sample['is_duplicate']==0,'cos_score'])"
   ]
  },
  {
   "cell_type": "code",
   "execution_count": 182,
   "metadata": {},
   "outputs": [
    {
     "data": {
      "text/html": [
       "<div>\n",
       "<style scoped>\n",
       "    .dataframe tbody tr th:only-of-type {\n",
       "        vertical-align: middle;\n",
       "    }\n",
       "\n",
       "    .dataframe tbody tr th {\n",
       "        vertical-align: top;\n",
       "    }\n",
       "\n",
       "    .dataframe thead th {\n",
       "        text-align: right;\n",
       "    }\n",
       "</style>\n",
       "<table border=\"1\" class=\"dataframe\">\n",
       "  <thead>\n",
       "    <tr style=\"text-align: right;\">\n",
       "      <th></th>\n",
       "      <th>qid1</th>\n",
       "      <th>qid2</th>\n",
       "      <th>question1</th>\n",
       "      <th>question2</th>\n",
       "      <th>is_duplicate</th>\n",
       "      <th>sim_scores</th>\n",
       "      <th>cos_score</th>\n",
       "    </tr>\n",
       "    <tr>\n",
       "      <th>id</th>\n",
       "      <th></th>\n",
       "      <th></th>\n",
       "      <th></th>\n",
       "      <th></th>\n",
       "      <th></th>\n",
       "      <th></th>\n",
       "      <th></th>\n",
       "    </tr>\n",
       "  </thead>\n",
       "  <tbody>\n",
       "    <tr>\n",
       "      <th>0</th>\n",
       "      <td>1</td>\n",
       "      <td>2</td>\n",
       "      <td>What is the step by step guide to invest in sh...</td>\n",
       "      <td>What is the step by step guide to invest in sh...</td>\n",
       "      <td>0</td>\n",
       "      <td>0.225225</td>\n",
       "      <td>1.0</td>\n",
       "    </tr>\n",
       "    <tr>\n",
       "      <th>3157</th>\n",
       "      <td>6259</td>\n",
       "      <td>6260</td>\n",
       "      <td>Is sexstorian.com safe?</td>\n",
       "      <td>Is zerocensorship.com safe?</td>\n",
       "      <td>0</td>\n",
       "      <td>0.067568</td>\n",
       "      <td>1.0</td>\n",
       "    </tr>\n",
       "    <tr>\n",
       "      <th>4250</th>\n",
       "      <td>8404</td>\n",
       "      <td>8405</td>\n",
       "      <td>How do people who are deaf by birth acquire la...</td>\n",
       "      <td>If a person is born deaf, which language do th...</td>\n",
       "      <td>0</td>\n",
       "      <td>0.033784</td>\n",
       "      <td>1.0</td>\n",
       "    </tr>\n",
       "    <tr>\n",
       "      <th>789</th>\n",
       "      <td>1573</td>\n",
       "      <td>1574</td>\n",
       "      <td>What is the function of nucleoplasm in a plant...</td>\n",
       "      <td>What is the function of centrosomes in plant c...</td>\n",
       "      <td>0</td>\n",
       "      <td>0.045045</td>\n",
       "      <td>1.0</td>\n",
       "    </tr>\n",
       "    <tr>\n",
       "      <th>793</th>\n",
       "      <td>1581</td>\n",
       "      <td>1582</td>\n",
       "      <td>What mythical creatures are in the Bible?</td>\n",
       "      <td>What do mythical creatures eat?</td>\n",
       "      <td>0</td>\n",
       "      <td>0.067568</td>\n",
       "      <td>1.0</td>\n",
       "    </tr>\n",
       "  </tbody>\n",
       "</table>\n",
       "</div>"
      ],
      "text/plain": [
       "      qid1  qid2                                          question1  \\\n",
       "id                                                                    \n",
       "0        1     2  What is the step by step guide to invest in sh...   \n",
       "3157  6259  6260                            Is sexstorian.com safe?   \n",
       "4250  8404  8405  How do people who are deaf by birth acquire la...   \n",
       "789   1573  1574  What is the function of nucleoplasm in a plant...   \n",
       "793   1581  1582          What mythical creatures are in the Bible?   \n",
       "\n",
       "                                              question2  is_duplicate  \\\n",
       "id                                                                      \n",
       "0     What is the step by step guide to invest in sh...             0   \n",
       "3157                        Is zerocensorship.com safe?             0   \n",
       "4250  If a person is born deaf, which language do th...             0   \n",
       "789   What is the function of centrosomes in plant c...             0   \n",
       "793                     What do mythical creatures eat?             0   \n",
       "\n",
       "      sim_scores  cos_score  \n",
       "id                           \n",
       "0       0.225225        1.0  \n",
       "3157    0.067568        1.0  \n",
       "4250    0.033784        1.0  \n",
       "789     0.045045        1.0  \n",
       "793     0.067568        1.0  "
      ]
     },
     "execution_count": 182,
     "metadata": {},
     "output_type": "execute_result"
    }
   ],
   "source": [
    "wrong_cos = sample.loc[sample['is_duplicate']==0].sort_values(by='cos_score',ascending=False).head(5)\n",
    "wrong_cos"
   ]
  },
  {
   "cell_type": "code",
   "execution_count": 188,
   "metadata": {},
   "outputs": [
    {
     "name": "stderr",
     "output_type": "stream",
     "text": [
      "/Users/bassim/anaconda3/lib/python3.6/site-packages/ipykernel_launcher.py:1: SettingWithCopyWarning: \n",
      "A value is trying to be set on a copy of a slice from a DataFrame.\n",
      "Try using .loc[row_indexer,col_indexer] = value instead\n",
      "\n",
      "See the caveats in the documentation: http://pandas.pydata.org/pandas-docs/stable/indexing.html#indexing-view-versus-copy\n",
      "  \"\"\"Entry point for launching an IPython kernel.\n"
     ]
    }
   ],
   "source": [
    "sample['ensemble'] = (sample['sim_scores']+sample['cos_score'])/2"
   ]
  },
  {
   "cell_type": "code",
   "execution_count": 191,
   "metadata": {},
   "outputs": [
    {
     "name": "stdout",
     "output_type": "stream",
     "text": [
      "My naive model scored 0.6944544533454488\n",
      "log loss score of my naive model is 1.059151759346055\n",
      " \n",
      "Cosine similarity model scored 0.6147884011038984\n",
      "log loss score of cos_sim is 4.655975648723822\n",
      " \n",
      "ensemble model scored 0.6406942038214294\n",
      "log loss score of ensemble is 0.6690112291306556\n"
     ]
    },
    {
     "data": {
      "image/png": "[encoded data removed]",
      "text/plain": [
       "<Figure size 432x288 with 1 Axes>"
      ]
     },
     "metadata": {},
     "output_type": "display_data"
    }
   ],
   "source": [
    "# roc auc. Both models have a higher precision score than recall score.\n",
    "\n",
    "# my naive model\n",
    "fpr, tpr, threshold = metrics.roc_curve(sample['is_duplicate'], sample['sim_scores'])\n",
    "roc_auc = metrics.auc(fpr, tpr)\n",
    "print (\"My naive model scored\",roc_auc)\n",
    "print ('log loss score of my naive model is',log_loss(sample['is_duplicate'],sample['sim_scores']))\n",
    "print (' ')\n",
    "plt.plot(fpr, tpr, 'b', label = \"Bassim's naive method\")\n",
    "plt.legend(loc = 'lower right')\n",
    "\n",
    "# cosine similarity model\n",
    "fpr, tpr, threshold = metrics.roc_curve(sample['is_duplicate'], sample['cos_score'])\n",
    "roc_auc = metrics.auc(fpr, tpr)\n",
    "print (\"Cosine similarity model scored\",roc_auc)\n",
    "print ('log loss score of cos_sim is',log_loss(sample['is_duplicate'],sample['cos_score']))\n",
    "print (' ')\n",
    "plt.plot(fpr, tpr, 'green', label = \"Cosine similarity\")\n",
    "plt.legend(loc = 'lower right')\n",
    "\n",
    "# ensemble model\n",
    "fpr, tpr, threshold = metrics.roc_curve(sample['is_duplicate'], sample['ensemble'])\n",
    "roc_auc = metrics.auc(fpr, tpr)\n",
    "print (\"ensemble model scored\",roc_auc)\n",
    "print ('log loss score of ensemble is',log_loss(sample['is_duplicate'],sample['ensemble']))\n",
    "plt.plot(fpr, tpr, 'orange', label = \"Ensemble\")\n",
    "plt.legend(loc = 'lower right')\n",
    "\n",
    "\n",
    "plt.title('Receiver Operating Characteristic')\n",
    "plt.plot([0, 1], [0, 1],'r--',label='random guessing')\n",
    "plt.legend(loc = 'lower right')\n",
    "plt.xlim([0, 1])\n",
    "plt.ylim([0, 1])\n",
    "plt.ylabel('True Positive Rate')\n",
    "plt.xlabel('False Positive Rate')\n",
    "plt.show()"
   ]
  },
  {
   "cell_type": "code",
   "execution_count": 198,
   "metadata": {},
   "outputs": [
    {
     "data": {
      "text/plain": [
       "Text(0.5,1,'2-class Precision-Recall curve: AP=0.51')"
      ]
     },
     "execution_count": 198,
     "metadata": {},
     "output_type": "execute_result"
    },
    {
     "data": {
      "image/png": "[encoded data removed]",
      "text/plain": [
       "<Figure size 432x288 with 1 Axes>"
      ]
     },
     "metadata": {},
     "output_type": "display_data"
    }
   ],
   "source": [
    "average_precision = average_precision_score(sample['is_duplicate'], sample['ensemble'])\n",
    "precision, recall, _ = precision_recall_curve(sample['is_duplicate'], sample['ensemble'])\n",
    "\n",
    "step_kwargs = ({'step': 'post'}\n",
    "               if 'step' in signature(plt.fill_between).parameters\n",
    "               else {})\n",
    "plt.step(recall, precision, color='b', alpha=0.2,\n",
    "         where='post')\n",
    "plt.fill_between(recall, precision, alpha=0.2, color='b', **step_kwargs)\n",
    "\n",
    "plt.xlabel('Recall')\n",
    "plt.ylabel('Precision')\n",
    "plt.ylim([0.0, 1.05])\n",
    "plt.xlim([0.0, 1.0])\n",
    "plt.title('2-class Precision-Recall curve: AP={0:0.2f}'.format(\n",
    "          average_precision))\n"
   ]
  },
  {
   "cell_type": "code",
   "execution_count": null,
   "metadata": {},
   "outputs": [],
   "source": []
  },
  {
   "cell_type": "code",
   "execution_count": null,
   "metadata": {},
   "outputs": [],
   "source": []
  }
 ],
 "metadata": {
  "kernelspec": {
   "display_name": "Python 3",
   "language": "python",
   "name": "python3"
  },
  "language_info": {
   "codemirror_mode": {
    "name": "ipython",
    "version": 3
   },
   "file_extension": ".py",
   "mimetype": "text/x-python",
   "name": "python",
   "nbconvert_exporter": "python",
   "pygments_lexer": "ipython3",
   "version": "3.6.5"
  }
 },
 "nbformat": 4,
 "nbformat_minor": 2
}
